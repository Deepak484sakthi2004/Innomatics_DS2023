{
  "nbformat": 4,
  "nbformat_minor": 0,
  "metadata": {
    "colab": {
      "provenance": []
    },
    "kernelspec": {
      "name": "python3",
      "display_name": "Python 3"
    },
    "language_info": {
      "name": "python"
    }
  },
  "cells": [
    {
      "cell_type": "markdown",
      "source": [
        "**UBER DATA ANALYSIS AND ML MODEL**"
      ],
      "metadata": {
        "id": "pOHTkln3eDXU"
      }
    },
    {
      "cell_type": "code",
      "source": [
        "import pandas as pd\n",
        "import numpy as np\n",
        "\n",
        "df=pd.read_csv('uber_rides.csv')\n",
        "\n",
        "df.info()"
      ],
      "metadata": {
        "colab": {
          "base_uri": "https://localhost:8080/"
        },
        "id": "9mR5E76qeBGU",
        "outputId": "b3d6a2a9-be69-4106-aa29-d882a6b5c6b1"
      },
      "execution_count": 53,
      "outputs": [
        {
          "output_type": "stream",
          "name": "stdout",
          "text": [
            "<class 'pandas.core.frame.DataFrame'>\n",
            "RangeIndex: 200000 entries, 0 to 199999\n",
            "Data columns (total 8 columns):\n",
            " #   Column             Non-Null Count   Dtype  \n",
            "---  ------             --------------   -----  \n",
            " 0   ride_id            200000 non-null  int64  \n",
            " 1   fare_amount        200000 non-null  float64\n",
            " 2   pickup_datetime    200000 non-null  object \n",
            " 3   pickup_longitude   200000 non-null  float64\n",
            " 4   pickup_latitude    200000 non-null  float64\n",
            " 5   dropoff_longitude  199999 non-null  float64\n",
            " 6   dropoff_latitude   199999 non-null  float64\n",
            " 7   passenger_count    200000 non-null  int64  \n",
            "dtypes: float64(5), int64(2), object(1)\n",
            "memory usage: 12.2+ MB\n"
          ]
        }
      ]
    },
    {
      "cell_type": "code",
      "source": [
        "# SHAPE OF THE DATASET\n",
        "df.shape"
      ],
      "metadata": {
        "colab": {
          "base_uri": "https://localhost:8080/"
        },
        "id": "EGnLi_AnXlQt",
        "outputId": "5f67c7ec-9247-4d88-845c-06cb7f9c1c86"
      },
      "execution_count": 7,
      "outputs": [
        {
          "output_type": "execute_result",
          "data": {
            "text/plain": [
              "(200000, 8)"
            ]
          },
          "metadata": {},
          "execution_count": 7
        }
      ]
    },
    {
      "cell_type": "code",
      "source": [
        "# NULL VALUES IN THE DATASET\n",
        "df.isnull().sum()"
      ],
      "metadata": {
        "colab": {
          "base_uri": "https://localhost:8080/"
        },
        "id": "9jTG1Vb6XlTi",
        "outputId": "e8e121d2-9ed8-4413-c01f-cec69ea436a5"
      },
      "execution_count": 9,
      "outputs": [
        {
          "output_type": "execute_result",
          "data": {
            "text/plain": [
              "ride_id              0\n",
              "fare_amount          0\n",
              "pickup_datetime      0\n",
              "pickup_longitude     0\n",
              "pickup_latitude      0\n",
              "dropoff_longitude    1\n",
              "dropoff_latitude     1\n",
              "passenger_count      0\n",
              "dtype: int64"
            ]
          },
          "metadata": {},
          "execution_count": 9
        }
      ]
    },
    {
      "cell_type": "code",
      "source": [
        "# DATATYPES\n",
        "df.dtypes"
      ],
      "metadata": {
        "colab": {
          "base_uri": "https://localhost:8080/"
        },
        "id": "v37GuOOJXlWX",
        "outputId": "ad43bb78-898f-40fb-be95-7e9e4c98ebdc"
      },
      "execution_count": 12,
      "outputs": [
        {
          "output_type": "execute_result",
          "data": {
            "text/plain": [
              "ride_id                            int64\n",
              "fare_amount                      float64\n",
              "pickup_datetime      datetime64[ns, UTC]\n",
              "pickup_longitude                 float64\n",
              "pickup_latitude                  float64\n",
              "dropoff_longitude                float64\n",
              "dropoff_latitude                 float64\n",
              "passenger_count                    int64\n",
              "dtype: object"
            ]
          },
          "metadata": {},
          "execution_count": 12
        }
      ]
    },
    {
      "cell_type": "code",
      "source": [
        "# CONVERTING THE pickup_datetime TO DATATIME FORMAT\n",
        "df['pickup_datetime']=pd.to_datetime(df['pickup_datetime'])\n"
      ],
      "metadata": {
        "id": "E6uk0HIuXlY9"
      },
      "execution_count": 11,
      "outputs": []
    },
    {
      "cell_type": "code",
      "source": [
        "# DROP THE NULL VALUES\n",
        "df=df.dropna()\n"
      ],
      "metadata": {
        "id": "seq6_4dyXlcJ"
      },
      "execution_count": 16,
      "outputs": []
    },
    {
      "cell_type": "code",
      "source": [
        "df.isnull().sum()"
      ],
      "metadata": {
        "colab": {
          "base_uri": "https://localhost:8080/"
        },
        "id": "wbEimOfwZEiG",
        "outputId": "0115e6d8-5f4f-49f4-b530-8212e5bda4f3"
      },
      "execution_count": 17,
      "outputs": [
        {
          "output_type": "execute_result",
          "data": {
            "text/plain": [
              "ride_id              0\n",
              "fare_amount          0\n",
              "pickup_datetime      0\n",
              "pickup_longitude     0\n",
              "pickup_latitude      0\n",
              "dropoff_longitude    0\n",
              "dropoff_latitude     0\n",
              "passenger_count      0\n",
              "dtype: int64"
            ]
          },
          "metadata": {},
          "execution_count": 17
        }
      ]
    },
    {
      "cell_type": "code",
      "source": [
        "# AVERAGE PF FARE AMOUNT\n",
        "df['fare_amount'].mean()"
      ],
      "metadata": {
        "colab": {
          "base_uri": "https://localhost:8080/"
        },
        "id": "pCfeKGnAZEk5",
        "outputId": "44cf5f4f-49da-441e-9283-bb834edbd503"
      },
      "execution_count": 18,
      "outputs": [
        {
          "output_type": "execute_result",
          "data": {
            "text/plain": [
              "11.359891549457748"
            ]
          },
          "metadata": {},
          "execution_count": 18
        }
      ]
    },
    {
      "cell_type": "code",
      "source": [
        "import numpy as np\n",
        "\n",
        "def haversine_distance(lat1, lon1, lat2, lon2):\n",
        "    # Convert latitude and longitude from degrees to radians\n",
        "    lat1, lon1, lat2, lon2 = np.radians([lat1, lon1, lat2, lon2])\n",
        "\n",
        "    # Haversine formula\n",
        "    dlon = lon2 - lon1\n",
        "    dlat = lat2 - lat1\n",
        "    a = np.sin(dlat/2)**2 + np.cos(lat1) * np.cos(lat2) * np.sin(dlon/2)**2\n",
        "    c = 2 * np.arcsin(np.sqrt(a))\n",
        "    r = 6371  # Radius of the Earth in kilometers\n",
        "    return c * r\n"
      ],
      "metadata": {
        "id": "8QqGz-3vZEnt"
      },
      "execution_count": 19,
      "outputs": []
    },
    {
      "cell_type": "code",
      "source": [
        "df['haversine_distance'] = df.apply(lambda row: haversine_distance(\n",
        "    row['pickup_latitude'],\n",
        "    row['pickup_longitude'],\n",
        "    row['dropoff_latitude'],\n",
        "    row['dropoff_longitude']\n",
        "), axis=1)\n"
      ],
      "metadata": {
        "id": "nyM5N1XhZgXx"
      },
      "execution_count": 20,
      "outputs": []
    },
    {
      "cell_type": "code",
      "source": [
        "median_haversine_distance=df['haversine_distance'].median()\n"
      ],
      "metadata": {
        "id": "lqUmI8kbZga8"
      },
      "execution_count": 21,
      "outputs": []
    },
    {
      "cell_type": "code",
      "source": [
        "median_haversine_distance"
      ],
      "metadata": {
        "colab": {
          "base_uri": "https://localhost:8080/"
        },
        "id": "yMeABx5AZgeY",
        "outputId": "ed64db00-b049-4da1-ce9c-ff086a5a4513"
      },
      "execution_count": 22,
      "outputs": [
        {
          "output_type": "execute_result",
          "data": {
            "text/plain": [
              "2.1209923961833708"
            ]
          },
          "metadata": {},
          "execution_count": 22
        }
      ]
    },
    {
      "cell_type": "code",
      "source": [
        "max_haversine_distance=df['haversine_distance'].max()\n"
      ],
      "metadata": {
        "id": "8XJBX4Y_Z02k"
      },
      "execution_count": 23,
      "outputs": []
    },
    {
      "cell_type": "code",
      "source": [
        "max_haversine_distance"
      ],
      "metadata": {
        "colab": {
          "base_uri": "https://localhost:8080/"
        },
        "id": "jFtTZ_y3Z06m",
        "outputId": "03d70e0b-550c-422e-a897-b34ffaaab1a6"
      },
      "execution_count": 24,
      "outputs": [
        {
          "output_type": "execute_result",
          "data": {
            "text/plain": [
              "16409.239135313164"
            ]
          },
          "metadata": {},
          "execution_count": 24
        }
      ]
    },
    {
      "cell_type": "code",
      "source": [
        "(df['haversine_distance']==0.0).sum()\n"
      ],
      "metadata": {
        "colab": {
          "base_uri": "https://localhost:8080/"
        },
        "id": "-77fEBxRZ091",
        "outputId": "9801ca91-9f2d-427f-b04b-19fe89de36a0"
      },
      "execution_count": 25,
      "outputs": [
        {
          "output_type": "execute_result",
          "data": {
            "text/plain": [
              "5632"
            ]
          },
          "metadata": {},
          "execution_count": 25
        }
      ]
    },
    {
      "cell_type": "code",
      "source": [
        "#'haversine_distance' is 0.0\n",
        "zero_distance_rides=df[df['haversine_distance']==0.0]\n",
        "\n",
        "# the mean 'fare_amount' for those rides\n",
        "mean_fare_for_zero_distance_rides=zero_distance_rides['fare_amount'].mean()\n"
      ],
      "metadata": {
        "id": "nW83TwoLZ1A3"
      },
      "execution_count": 26,
      "outputs": []
    },
    {
      "cell_type": "code",
      "source": [
        "mean_fare_for_zero_distance_rides"
      ],
      "metadata": {
        "colab": {
          "base_uri": "https://localhost:8080/"
        },
        "id": "NtXSHqweZ1EK",
        "outputId": "32706b5b-8852-4ff4-8af9-c036b51a9f21"
      },
      "execution_count": 27,
      "outputs": [
        {
          "output_type": "execute_result",
          "data": {
            "text/plain": [
              "11.585317826704546"
            ]
          },
          "metadata": {},
          "execution_count": 27
        }
      ]
    },
    {
      "cell_type": "code",
      "source": [
        "df['fare_amount'].max()"
      ],
      "metadata": {
        "colab": {
          "base_uri": "https://localhost:8080/"
        },
        "id": "_5rYPZB-Z1Hq",
        "outputId": "ebc59fd2-49a4-46c1-ebfd-0a30d05fdd69"
      },
      "execution_count": 28,
      "outputs": [
        {
          "output_type": "execute_result",
          "data": {
            "text/plain": [
              "499.0"
            ]
          },
          "metadata": {},
          "execution_count": 28
        }
      ]
    },
    {
      "cell_type": "code",
      "source": [
        "# Find the ride with the highest 'fare_amount'\n",
        "costliest_ride=df[df['fare_amount']==df['fare_amount'].max()]\n",
        "\n",
        "# Calculate the Haversine distance for the costliest ride\n",
        "haversine_distance_costliest_ride = haversine_distance(\n",
        "    costliest_ride['pickup_latitude'].values[0],\n",
        "    costliest_ride['pickup_longitude'].values[0],\n",
        "    costliest_ride['dropoff_latitude'].values[0],\n",
        "    costliest_ride['dropoff_longitude'].values[0]\n",
        ")\n"
      ],
      "metadata": {
        "id": "sd8aSoJxZ1KU"
      },
      "execution_count": 29,
      "outputs": []
    },
    {
      "cell_type": "code",
      "source": [
        "haversine_distance_costliest_ride"
      ],
      "metadata": {
        "colab": {
          "base_uri": "https://localhost:8080/"
        },
        "id": "y8r93Q-AZ1NA",
        "outputId": "34750a3b-b53c-4dc4-b254-fce717a698f0"
      },
      "execution_count": 30,
      "outputs": [
        {
          "output_type": "execute_result",
          "data": {
            "text/plain": [
              "0.0007899213191009993"
            ]
          },
          "metadata": {},
          "execution_count": 30
        }
      ]
    },
    {
      "cell_type": "code",
      "source": [
        "# Convert 'pickup_datetime' to a datetime data type if not already done\n",
        "df['pickup_datetime']=pd.to_datetime(df['pickup_datetime'])\n",
        "\n",
        "# the year from the 'pickup_datetime' column\n",
        "df['pickup_year']=df['pickup_datetime'].dt.year\n",
        "\n",
        "# Count the number of rides that occurred in 2014\n",
        "rides_in_2014=(df['pickup_year']==2014).sum()\n"
      ],
      "metadata": {
        "id": "pmnMDTupacK5"
      },
      "execution_count": 55,
      "outputs": []
    },
    {
      "cell_type": "code",
      "source": [
        "rides_in_2014"
      ],
      "metadata": {
        "colab": {
          "base_uri": "https://localhost:8080/"
        },
        "id": "eRrkLWP2acNx",
        "outputId": "542df99f-dd8a-483f-d435-ee2a4d86dc0b"
      },
      "execution_count": 56,
      "outputs": [
        {
          "output_type": "execute_result",
          "data": {
            "text/plain": [
              "29968"
            ]
          },
          "metadata": {},
          "execution_count": 56
        }
      ]
    },
    {
      "cell_type": "code",
      "source": [
        "\n",
        "# the first quarter of 2014 (January 1, 2014, to March 31, 2014)\n",
        "first_quarter_rides=df[(df['pickup_datetime'].dt.month >= 1)&(df['pickup_datetime'].dt.month<=3)]\n",
        "\n",
        "# Count the number of rides in the first quarter of 2014\n",
        "rides_in_first_quarter_2014=len(first_quarter_rides)\n"
      ],
      "metadata": {
        "id": "DQCmSljDacQR"
      },
      "execution_count": 57,
      "outputs": []
    },
    {
      "cell_type": "code",
      "source": [
        "rides_in_first_quarter_2014"
      ],
      "metadata": {
        "colab": {
          "base_uri": "https://localhost:8080/"
        },
        "id": "iDDiqUhvacVa",
        "outputId": "6850b936-f9c4-42e7-fda9-8e897d486809"
      },
      "execution_count": 58,
      "outputs": [
        {
          "output_type": "execute_result",
          "data": {
            "text/plain": [
              "53126"
            ]
          },
          "metadata": {},
          "execution_count": 58
        }
      ]
    },
    {
      "cell_type": "code",
      "source": [],
      "metadata": {
        "id": "m1nGJ-QwacY3"
      },
      "execution_count": null,
      "outputs": []
    },
    {
      "cell_type": "code",
      "source": [
        "\n",
        "# Extract the day of the week and year\n",
        "df['day_of_week']=df['pickup_datetime'].dt.day_name()\n",
        "df['year']=df['pickup_datetime'].dt.year\n",
        "\n",
        "#  September 2010\n",
        "september_2010_rides = df[(df['year'] == 2010) & (df['pickup_datetime'].dt.month == 9)]\n",
        "\n",
        "# Group by day of the week and count rides\n",
        "rides_by_day_of_week = september_2010_rides['day_of_week'].value_counts()\n",
        "\n",
        "# the day with the maximum number of rides\n",
        "max_rides_day = rides_by_day_of_week.idxmax()\n",
        "max_rides_count = rides_by_day_of_week.max()\n",
        "\n",
        "print(f\"The day with the maximum rides in September 2010 was {max_rides_day} with {max_rides_count} rides.\")\n"
      ],
      "metadata": {
        "colab": {
          "base_uri": "https://localhost:8080/"
        },
        "id": "XQPnb4TKbwF8",
        "outputId": "83fd21fb-cc60-4725-f85c-39287bf0870a"
      },
      "execution_count": 59,
      "outputs": [
        {
          "output_type": "stream",
          "name": "stdout",
          "text": [
            "The day with the maximum rides in September 2010 was Thursday with 457 rides.\n"
          ]
        }
      ]
    },
    {
      "cell_type": "code",
      "source": [
        "df.info()"
      ],
      "metadata": {
        "colab": {
          "base_uri": "https://localhost:8080/"
        },
        "id": "o2TIJJQ2bwIU",
        "outputId": "4b11f9f5-f198-4b37-b5aa-a09329a3299c"
      },
      "execution_count": 40,
      "outputs": [
        {
          "output_type": "stream",
          "name": "stdout",
          "text": [
            "<class 'pandas.core.frame.DataFrame'>\n",
            "Int64Index: 199999 entries, 0 to 199999\n",
            "Data columns (total 12 columns):\n",
            " #   Column              Non-Null Count   Dtype              \n",
            "---  ------              --------------   -----              \n",
            " 0   ride_id             199999 non-null  int64              \n",
            " 1   fare_amount         199999 non-null  float64            \n",
            " 2   pickup_datetime     199999 non-null  datetime64[ns, UTC]\n",
            " 3   pickup_longitude    199999 non-null  float64            \n",
            " 4   pickup_latitude     199999 non-null  float64            \n",
            " 5   dropoff_longitude   199999 non-null  float64            \n",
            " 6   dropoff_latitude    199999 non-null  float64            \n",
            " 7   passenger_count     199999 non-null  int64              \n",
            " 8   haversine_distance  199999 non-null  float64            \n",
            " 9   pickup_year         199999 non-null  int64              \n",
            " 10  day_of_week         199999 non-null  object             \n",
            " 11  year                199999 non-null  int64              \n",
            "dtypes: datetime64[ns, UTC](1), float64(6), int64(4), object(1)\n",
            "memory usage: 19.8+ MB\n"
          ]
        }
      ]
    },
    {
      "cell_type": "markdown",
      "source": [
        "MACHINE LEARNING MODEL"
      ],
      "metadata": {
        "id": "B_WKJpITf5AV"
      }
    },
    {
      "cell_type": "code",
      "source": [
        "from sklearn.model_selection import train_test_split\n",
        "from sklearn.linear_model import LinearRegression\n",
        "from sklearn.tree import DecisionTreeRegressor\n",
        "from sklearn.ensemble import RandomForestRegressor\n",
        "from sklearn.neighbors import KNeighborsRegressor\n",
        "from sklearn.metrics import r2_score\n",
        "\n",
        "# Extract the day of the week and year\n",
        "df['day_of_week'] = df['pickup_datetime'].dt.day_name()\n",
        "df['year'] = df['pickup_datetime'].dt.year\n",
        "\n",
        "# One-hot encode 'ride_week_day'\n",
        "df = pd.get_dummies(df, columns=['day_of_week'], drop_first=True)\n",
        "\n",
        "# Split the data into training and testing sets (70-30 split)\n",
        "X = df[['passenger_count', 'haversine_distance'] + [col for col in df.columns if col.startswith('day_of_week')]]\n",
        "y = df['fare_amount']\n",
        "X_train, X_test, y_train, y_test = train_test_split(X, y, test_size=0.3, random_state=42)\n",
        "\n",
        "# Initialize and fit the regression models\n",
        "models = {\n",
        "    'Linear Regression': LinearRegression(),\n",
        "    'Decision Tree Regressor': DecisionTreeRegressor(),\n",
        "    'Random Forest Regressor': RandomForestRegressor(),\n",
        "    'K-Nearest Neighbors Regressor': KNeighborsRegressor()\n",
        "}\n",
        "\n",
        "adjusted_r2_scores = {}\n",
        "\n",
        "for model_name, model in models.items():\n",
        "    model.fit(X_train, y_train)\n",
        "    y_pred = model.predict(X_test)\n",
        "    r2 = r2_score(y_test, y_pred)\n",
        "\n",
        "    # Calculate adjusted R-squared\n",
        "    n = len(y_test)\n",
        "    p = X_test.shape[1]\n",
        "    adjusted_r2 = 1 - ((1 - r2) * (n - 1) / (n - p - 1))\n",
        "\n",
        "    adjusted_r2_scores[model_name] = adjusted_r2\n",
        "\n",
        "# Find the algorithm with the least adjusted R-squared value\n",
        "worst_algorithm = min(adjusted_r2_scores, key=adjusted_r2_scores.get)\n",
        "worst_score = adjusted_r2_scores[worst_algorithm]\n",
        "\n",
        "print(\"Adjusted R-squared scores:\")\n",
        "for model_name, score in adjusted_r2_scores.items():\n",
        "    print(f\"{model_name}: {score}\")\n",
        "\n",
        "print(f\"The algorithm with the least adjusted R-squared value is {worst_algorithm} with a score of {worst_score}.\")\n"
      ],
      "metadata": {
        "colab": {
          "base_uri": "https://localhost:8080/"
        },
        "id": "jDOj-EevbwUz",
        "outputId": "dbda316c-ba72-4034-b254-ef89b1d23efc"
      },
      "execution_count": 49,
      "outputs": [
        {
          "output_type": "stream",
          "name": "stdout",
          "text": [
            "Adjusted R-squared scores:\n",
            "Linear Regression: 0.00031314876430676986\n",
            "Decision Tree Regressor: 0.4770868871423056\n",
            "Random Forest Regressor: 0.6289926834446569\n",
            "K-Nearest Neighbors Regressor: 0.6335937119601454\n",
            "The algorithm with the least adjusted R-squared value is Linear Regression with a score of 0.00031314876430676986.\n"
          ]
        }
      ]
    },
    {
      "cell_type": "code",
      "source": [],
      "metadata": {
        "id": "-vaduxuobwZR"
      },
      "execution_count": null,
      "outputs": []
    }
  ]
}