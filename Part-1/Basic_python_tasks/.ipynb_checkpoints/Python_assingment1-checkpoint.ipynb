{
 "cells": [
  {
   "cell_type": "markdown",
   "id": "204b0e97",
   "metadata": {},
   "source": [
    "Input: nums = [1,2,3,4]\n",
    "Output: [1,3,6,10]\n",
    "Explanation: Running sum is obtained as follows: [1, 1+2, 1+2+3, 1+2+3+4]."
   ]
  },
  {
   "cell_type": "code",
   "execution_count": 95,
   "id": "7ec00c00",
   "metadata": {},
   "outputs": [
    {
     "name": "stdout",
     "output_type": "stream",
     "text": [
      "[1, 3, 6, 10, 15]\n"
     ]
    }
   ],
   "source": [
    "l=[1,2,3,4,5]\n",
    "ll=[]\n",
    "\n",
    "for i in range(1,len(l)+1):\n",
    "    s=l[0]\n",
    "    for j in range(1,i):\n",
    "        s+=l[j]\n",
    "    ll.append(s)\n",
    "\n",
    "\n",
    "print(ll)       \n",
    "       \n"
   ]
  },
  {
   "cell_type": "markdown",
   "id": "4dbc537f",
   "metadata": {},
   "source": [
    "Input: nums = [2,5,1,3,4,7], n = 3\n",
    "Output: [2,3,5,4,1,7] \n",
    "Explanation: Since x1=2, x2=5, x3=1, y1=3, y2=4, y3=7 then the answer is [2,3,5,4,1,7]."
   ]
  },
  {
   "cell_type": "code",
   "execution_count": 69,
   "id": "5a59c50e",
   "metadata": {},
   "outputs": [
    {
     "name": "stdout",
     "output_type": "stream",
     "text": [
      "[1, 2, 1, 2]\n"
     ]
    }
   ],
   "source": [
    "l=[1,1,2,2]\n",
    "n=2\n",
    "ll=[]\n",
    "for i in range(n):\n",
    "    ll.append(l[i])\n",
    "    ll.append(l[i+n])\n",
    "print(ll)\n",
    "\n"
   ]
  },
  {
   "cell_type": "markdown",
   "id": "a8cc1a57",
   "metadata": {},
   "source": [
    "Input: candies = [2,3,5,1,3], extraCandies = 3\n",
    "Output: [true,true,true,false,true] \n",
    "Explanation: If you give all extraCandies to:\n",
    "- Kid 1, they will have 2 + 3 = 5 candies, which is the greatest among the kids.\n",
    "- Kid 2, they will have 3 + 3 = 6 candies, which is the greatest among the kids.\n",
    "- Kid 3, they will have 5 + 3 = 8 candies, which is the greatest among the kids.\n",
    "- Kid 4, they will have 1 + 3 = 4 candies, which is not the greatest among the kids.\n",
    "- Kid 5, they will have 3 + 3 = 6 candies, which is the greatest among the kids."
   ]
  },
  {
   "cell_type": "code",
   "execution_count": 76,
   "id": "be184c8b",
   "metadata": {},
   "outputs": [
    {
     "name": "stdout",
     "output_type": "stream",
     "text": [
      "['True', 'False', 'False', 'False', 'False']\n"
     ]
    }
   ],
   "source": [
    "c=[4,2,1,1,2]\n",
    "extra=1\n",
    "ll=[]\n",
    "for i in range(len(c)):\n",
    "    if extra+c[i]>=max(c):\n",
    "        ll.append(\"True\")\n",
    "    else:\n",
    "        ll.append(\"False\")\n",
    "print(ll)\n",
    "\n",
    "\n"
   ]
  },
  {
   "cell_type": "code",
   "execution_count": null,
   "id": "b51550f9",
   "metadata": {},
   "outputs": [],
   "source": []
  }
 ],
 "metadata": {
  "kernelspec": {
   "display_name": "Python 3",
   "language": "python",
   "name": "python3"
  },
  "language_info": {
   "codemirror_mode": {
    "name": "ipython",
    "version": 3
   },
   "file_extension": ".py",
   "mimetype": "text/x-python",
   "name": "python",
   "nbconvert_exporter": "python",
   "pygments_lexer": "ipython3",
   "version": "3.8.8"
  }
 },
 "nbformat": 4,
 "nbformat_minor": 5
}
