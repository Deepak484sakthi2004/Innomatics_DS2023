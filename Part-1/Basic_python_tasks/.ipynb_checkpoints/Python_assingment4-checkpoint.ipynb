{
 "cells": [
  {
   "cell_type": "markdown",
   "id": "02270f0e",
   "metadata": {},
   "source": [
    "Given a non-empty array of integers nums, every element appears twice except for one. Find that single one.\n",
    "\n",
    "You must implement a solution with a linear runtime complexity and use only constant extra space.\n",
    "Input: nums = [4,1,2,1,2]\n",
    "Output: 4"
   ]
  },
  {
   "cell_type": "code",
   "execution_count": 8,
   "id": "5e26e384",
   "metadata": {},
   "outputs": [
    {
     "name": "stdout",
     "output_type": "stream",
     "text": [
      "2 3 1 3 2 0 1\n"
     ]
    },
    {
     "data": {
      "text/plain": [
       "0"
      ]
     },
     "execution_count": 8,
     "metadata": {},
     "output_type": "execute_result"
    }
   ],
   "source": [
    "def single(nums):\n",
    "    result = 0\n",
    "    for num in nums:\n",
    "        result ^= num\n",
    "    return result\n",
    "n=list(map(int,input().split(\" \")))\n",
    "single(n)\n",
    "    "
   ]
  },
  {
   "cell_type": "markdown",
   "id": "1462b11a",
   "metadata": {},
   "source": [
    "You are given an integer array arr. Sort the integers in the array in ascending order by the number of 1's in their binary representation and in case of two or more integers have the same number of 1's you have to sort them in ascending order.\n",
    "\n",
    "Return the array after sorting it.\n",
    "\n",
    " Input: arr = [0,1,2,3,4,5,6,7,8]\n",
    "Output: [0,1,2,4,8,3,5,6,7]\n",
    "Explantion: [0] is the only integer with 0 bits.\n",
    "[1,2,4,8] all have 1 bit.\n",
    "[3,5,6] have 2 bits.\n",
    "[7] has 3 bits.\n",
    "The sorted array by bits is [0,1,2,4,8,3,5,6,7]"
   ]
  },
  {
   "cell_type": "code",
   "execution_count": 23,
   "id": "b68fc86f",
   "metadata": {},
   "outputs": [
    {
     "name": "stdout",
     "output_type": "stream",
     "text": [
      "2 3 1 98 7 5\n",
      "[1, 2, 3, 5, 7, 98]\n"
     ]
    }
   ],
   "source": [
    "l=list(map(int,input().split(\" \")))\n",
    "dict={}\n",
    "for i in l:\n",
    "    dict[i]=(bin(i)[2:])\n",
    "#print(dict)\n",
    "\n",
    "\n",
    "Keys = list(dict.keys())\n",
    "Keys.sort()\n",
    "sorted_dict = {i: dict[i] for i in Keys}\n",
    "\n",
    "ll=[]\n",
    "for i in sorted_dict:\n",
    "    ll.append(i)\n",
    "print(ll)\n",
    "    \n",
    "\n"
   ]
  },
  {
   "cell_type": "markdown",
   "id": "938de306",
   "metadata": {},
   "source": [
    "Given an integer array nums, in which exactly two elements appear only once and all the other elements appear exactly twice. Find the two elements that appear only once. You can return the answer in any order.\n",
    "Input: nums = [1,2,1,3,2,5]\n",
    "Output: [3,5]\n",
    "Explanation:  [5, 3] is also a valid answer."
   ]
  },
  {
   "cell_type": "code",
   "execution_count": 25,
   "id": "0323dad8",
   "metadata": {},
   "outputs": [
    {
     "name": "stdout",
     "output_type": "stream",
     "text": [
      "1,2,1,3,2,5\n",
      "[3, 5]\n"
     ]
    }
   ],
   "source": [
    "l=list(map(int,input().split(\",\")))\n",
    "ll=[]\n",
    "for i in l:\n",
    "    if i not in ll:\n",
    "        ll.append(i)\n",
    "    elif i in ll:\n",
    "        ll.remove(i)\n",
    "print(ll)"
   ]
  },
  {
   "cell_type": "markdown",
   "id": "2906d137",
   "metadata": {},
   "source": [
    "Given an integer array nums of unique elements, return all possible \n",
    "subsets\n",
    " (the power set).\n",
    "    The solution set must not contain duplicate subsets. Return the solution in any order.\n",
    "\n",
    " Input: nums = [1,2,3]\n",
    "Output: [[],[1],[2],[1,2],[3],[1,3],[2,3],[1,2,3]]"
   ]
  },
  {
   "cell_type": "code",
   "execution_count": 27,
   "id": "a001eed1",
   "metadata": {},
   "outputs": [
    {
     "data": {
      "text/plain": [
       "[[], [1], [1, 2], [1, 2, 3], [1, 3], [2], [2, 3], [3]]"
      ]
     },
     "execution_count": 27,
     "metadata": {},
     "output_type": "execute_result"
    }
   ],
   "source": [
    "def dfs(nums, path, result):\n",
    "    result.append(path)\n",
    "    for i in range(len(nums)):\n",
    "        dfs(nums[i+1:], path+[nums[i]], result)\n",
    "def subsets(nums):\n",
    "    result = []\n",
    "    dfs(nums, [], result)\n",
    "    return result        \n",
    "nums = [1,2,3]\n",
    "subsets(nums)"
   ]
  },
  {
   "cell_type": "code",
   "execution_count": null,
   "id": "f4ab3682",
   "metadata": {},
   "outputs": [],
   "source": []
  }
 ],
 "metadata": {
  "kernelspec": {
   "display_name": "Python 3",
   "language": "python",
   "name": "python3"
  },
  "language_info": {
   "codemirror_mode": {
    "name": "ipython",
    "version": 3
   },
   "file_extension": ".py",
   "mimetype": "text/x-python",
   "name": "python",
   "nbconvert_exporter": "python",
   "pygments_lexer": "ipython3",
   "version": "3.8.8"
  }
 },
 "nbformat": 4,
 "nbformat_minor": 5
}
