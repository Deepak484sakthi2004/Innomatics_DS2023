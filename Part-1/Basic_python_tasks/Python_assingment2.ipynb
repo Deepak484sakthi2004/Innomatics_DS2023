{
 "cells": [
  {
   "cell_type": "markdown",
   "id": "bd4c5034",
   "metadata": {},
   "source": [
    "Input: address = \"255.100.50.0\"\n",
    "Output: \"255[.]100[.]50[.]0\""
   ]
  },
  {
   "cell_type": "code",
   "execution_count": 1,
   "id": "0584aa84",
   "metadata": {},
   "outputs": [
    {
     "name": "stdout",
     "output_type": "stream",
     "text": [
      "\"255.100.50.0\" \n",
      "\"255[.]100[.]50[.]0\" "
     ]
    }
   ],
   "source": [
    "str=input()\n",
    "l=[]\n",
    "for i in str:\n",
    "    if i=='.':\n",
    "        l.append('[')\n",
    "        l.append(i)\n",
    "        l.append(']')\n",
    "    else:\n",
    "        l.append(i)\n",
    "for n in l:\n",
    "    print(n,end=\"\")\n",
    "    \n",
    "    "
   ]
  },
  {
   "cell_type": "markdown",
   "id": "dad38284",
   "metadata": {},
   "source": [
    "Input: nums = [12,345,2,6,7896]\n",
    "Output: 2\n",
    "Explanation: \n",
    "12 contains 2 digits (even number of digits). \n",
    "345 contains 3 digits (odd number of digits). \n",
    "2 contains 1 digit (odd number of digits). \n",
    "6 contains 1 digit (odd number of digits). \n",
    "7896 contains 4 digits (even number of digits). \n",
    "Therefore only 12 and 7896 contain an even number of digits."
   ]
  },
  {
   "cell_type": "code",
   "execution_count": 2,
   "id": "bd7ce337",
   "metadata": {},
   "outputs": [
    {
     "name": "stdout",
     "output_type": "stream",
     "text": [
      "12 345 2 6 7896\n",
      "2\n"
     ]
    }
   ],
   "source": [
    "def cnt(n):\n",
    "    c=0\n",
    "    while n>0:\n",
    "        c+=1\n",
    "        n=n//10\n",
    "    return c\n",
    "\n",
    "l=list(map(int,input().split(\" \")))\n",
    "even=0\n",
    "for i in l:\n",
    "    if cnt(i)%2==0:\n",
    "          even+=1\n",
    "print(even)\n",
    "\n"
   ]
  },
  {
   "cell_type": "markdown",
   "id": "17c481be",
   "metadata": {},
   "source": [
    "Input: nums = [1,2,3,1,1,3]\n",
    "Output: 4\n",
    "Explanation: There are 4 good pairs (0,3), (0,4), (3,4), (2,5) 0-indexed."
   ]
  },
  {
   "cell_type": "code",
   "execution_count": 3,
   "id": "6908fa6c",
   "metadata": {},
   "outputs": [
    {
     "name": "stdout",
     "output_type": "stream",
     "text": [
      "1 2 3 1 1 3\n",
      "4\n"
     ]
    }
   ],
   "source": [
    "l=list(map(int,input().split(\" \")))\n",
    "pair=0\n",
    "for i in range(len(l)):\n",
    "    for j in range(i+1,len(l)):\n",
    "        if l[i]==l[j]:\n",
    "            pair+=1\n",
    "            #print(i,j)\n",
    "          \n",
    "\n",
    "print(pair)\n"
   ]
  },
  {
   "cell_type": "markdown",
   "id": "6096dcc9",
   "metadata": {},
   "source": [
    "Input: nums = [8,1,2,2,3]\n",
    "Output: [4,0,1,1,3]\n",
    "Explanation: \n",
    "For nums[0]=8 there exist four smaller numbers than it (1, 2, 2 and 3). \n",
    "For nums[1]=1 does not exist any smaller number than it.\n",
    "For nums[2]=2 there exist one smaller number than it (1). \n",
    "For nums[3]=2 there exist one smaller number than it (1). \n",
    "For nums[4]=3 there exist three smaller numbers than it (1, 2 and 2)."
   ]
  },
  {
   "cell_type": "code",
   "execution_count": 5,
   "id": "c3e02ced",
   "metadata": {},
   "outputs": [
    {
     "name": "stdout",
     "output_type": "stream",
     "text": [
      "8,1,2,2,3\n",
      "[4, 0, 1, 1, 3]\n"
     ]
    }
   ],
   "source": [
    "l=list(map(int,input().split(\",\")))\n",
    "ll=[]\n",
    "cnt=0\n",
    "for i in range(len(l)):\n",
    "    for j in range(len(l)):\n",
    "        if l[i]>l[j]:\n",
    "            cnt+=1\n",
    "            #print(i,j)\n",
    "    ll.append(cnt)\n",
    "    cnt=0\n",
    "print(ll)\n"
   ]
  },
  {
   "cell_type": "markdown",
   "id": "5a0184b1",
   "metadata": {},
   "source": [
    "Input: n = 234\n",
    "Output: 15 \n",
    "Explanation: \n",
    "Product of digits = 2 * 3 * 4 = 24 \n",
    "Sum of digits = 2 + 3 + 4 = 9 \n",
    "Result = 24 - 9 = 15"
   ]
  },
  {
   "cell_type": "code",
   "execution_count": 9,
   "id": "f0d50952",
   "metadata": {},
   "outputs": [
    {
     "name": "stdout",
     "output_type": "stream",
     "text": [
      "234\n",
      "15\n"
     ]
    }
   ],
   "source": [
    "\n",
    "n=input()\n",
    "\n",
    "l=list(n)\n",
    "prod=1\n",
    "s=0\n",
    "for i in l:\n",
    "    prod*=int(i)\n",
    "    s+=int(i)\n",
    "print(prod-s)\n",
    "\n",
    "\n"
   ]
  },
  {
   "cell_type": "markdown",
   "id": "9ba650ad",
   "metadata": {},
   "source": [
    "Define an array nums where nums[i] = start + 2 * i (0-indexed) and n == nums.length.\n",
    "\n",
    "Input: n = 5, start = 0\n",
    "Output: 8\n",
    "Explanation: Array nums is equal to [0, 2, 4, 6, 8] where (0 ^ 2 ^ 4 ^ 6 ^ 8) = 8.\n",
    "Where \"^\" corresponds to bitwise XOR operator."
   ]
  },
  {
   "cell_type": "code",
   "execution_count": 11,
   "id": "d74c9e9d",
   "metadata": {},
   "outputs": [
    {
     "name": "stdout",
     "output_type": "stream",
     "text": [
      "5 0\n",
      "8\n"
     ]
    }
   ],
   "source": [
    "import functools\n",
    "n,start=map(int,input().split(\" \"))\n",
    "l=[]\n",
    "for i in range(n):\n",
    "    l.append(start+2*i)\n",
    "xor = functools.reduce(lambda x, y: x ^ y, l)\n",
    "print(xor)"
   ]
  },
  {
   "cell_type": "code",
   "execution_count": null,
   "id": "42246723",
   "metadata": {},
   "outputs": [],
   "source": []
  },
  {
   "cell_type": "code",
   "execution_count": null,
   "id": "d7b98973",
   "metadata": {},
   "outputs": [],
   "source": []
  }
 ],
 "metadata": {
  "kernelspec": {
   "display_name": "Python 3",
   "language": "python",
   "name": "python3"
  },
  "language_info": {
   "codemirror_mode": {
    "name": "ipython",
    "version": 3
   },
   "file_extension": ".py",
   "mimetype": "text/x-python",
   "name": "python",
   "nbconvert_exporter": "python",
   "pygments_lexer": "ipython3",
   "version": "3.8.8"
  }
 },
 "nbformat": 4,
 "nbformat_minor": 5
}
