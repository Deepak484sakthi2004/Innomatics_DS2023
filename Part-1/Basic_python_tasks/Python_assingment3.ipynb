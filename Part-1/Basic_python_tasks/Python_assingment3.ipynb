{
 "cells": [
  {
   "cell_type": "markdown",
   "id": "c5d65d3c",
   "metadata": {},
   "source": [
    "Return the maximum value of (nums[i]-1)*(nums[j]-1).\n",
    "\n",
    "Input: nums = [3,4,5,2]\n",
    "Output: 12 \n",
    "Explanation: If you choose the indices i=1 and j=2 (indexed from 0), you will get the maximum value, that is, (nums[1]-1)*(nums[2]-1) = (4-1)*(5-1) = 3*4 = 12. "
   ]
  },
  {
   "cell_type": "code",
   "execution_count": 1,
   "id": "a8a5be9f",
   "metadata": {},
   "outputs": [
    {
     "name": "stdout",
     "output_type": "stream",
     "text": [
      "16\n"
     ]
    }
   ],
   "source": [
    "def m(l):\n",
    "    max=l[0]\n",
    "    for i in l:\n",
    "        if max<i:\n",
    "            max=i\n",
    "    return max\n",
    "\n",
    "\n",
    "l=[1,5,4,5]\n",
    "m1=m(l)\n",
    "l.remove(m1)\n",
    "m2=m(l)-1\n",
    "\n",
    "print((m1-1)*m2)\n",
    "\n",
    "\n"
   ]
  },
  {
   "cell_type": "markdown",
   "id": "7648db4b",
   "metadata": {},
   "source": [
    "\n",
    "Input: rating = [2,5,3,4,1]\n",
    "Output: 3\n",
    "Explanation: We can form three teams given the conditions. (2,3,4), (5,4,1), (5,3,1). "
   ]
  },
  {
   "cell_type": "code",
   "execution_count": 2,
   "id": "b7304b95",
   "metadata": {},
   "outputs": [
    {
     "name": "stdout",
     "output_type": "stream",
     "text": [
      "3\n"
     ]
    }
   ],
   "source": [
    "l=[2,5,3,4,1]\n",
    "\n",
    "c=0\n",
    "for i in range(len(l)):\n",
    "    for j in range(i,len(l)):\n",
    "        for k in range(j,len(l)):\n",
    "            if l[i]<l[j]<l[k]:\n",
    "                c+=1\n",
    "            elif l[i]>l[j]>l[k]:\n",
    "                c+=1\n",
    "print(c)\n",
    "            \n",
    "            \n",
    "            \n"
   ]
  },
  {
   "cell_type": "markdown",
   "id": "a1cb2384",
   "metadata": {},
   "source": [
    "\n",
    "Input: startTime = [1,2,3], endTime = [3,2,7], queryTime = 4\n",
    "Output: 1\n",
    "Explanation: We have 3 students where:\n",
    "The first student started doing homework at time 1 and finished at time 3 and wasn't doing anything at time 4.\n",
    "The second student started doing homework at time 2 and finished at time 2 and also wasn't doing anything at time 4.\n",
    "The third student started doing homework at time 3 and finished at time 7 and was the only student doing homework at time 4."
   ]
  },
  {
   "cell_type": "code",
   "execution_count": 6,
   "id": "eda6a460",
   "metadata": {},
   "outputs": [
    {
     "name": "stdout",
     "output_type": "stream",
     "text": [
      "2 5 1\n",
      "9 12 4\n",
      "5\n",
      "2\n"
     ]
    }
   ],
   "source": [
    "starttime=list(map(int,input().split(\" \")))\n",
    "endtime=list(map(int,input().split(\" \")))\n",
    "querytime=int(input())\n",
    "present=0\n",
    "\n",
    "if len(starttime)==len(endtime):\n",
    "    for i in range(len(starttime)):\n",
    "        if querytime>=starttime[i] and querytime<=endtime[i]:\n",
    "            present+=1\n",
    "print(present)\n",
    " \n",
    "    \n",
    "    "
   ]
  },
  {
   "cell_type": "markdown",
   "id": "a32a90a4",
   "metadata": {},
   "source": [
    "Input: num = 14\n",
    "Output: 6\n",
    "Explanation: \n",
    "Step 1) 14 is even; divide by 2 and obtain 7. \n",
    "Step 2) 7 is odd; subtract 1 and obtain 6.\n",
    "Step 3) 6 is even; divide by 2 and obtain 3. \n",
    "Step 4) 3 is odd; subtract 1 and obtain 2. \n",
    "Step 5) 2 is even; divide by 2 and obtain 1. \n",
    "Step 6) 1 is odd; subtract 1 and obtain 0."
   ]
  },
  {
   "cell_type": "code",
   "execution_count": 7,
   "id": "b3d0dee6",
   "metadata": {},
   "outputs": [
    {
     "name": "stdout",
     "output_type": "stream",
     "text": [
      "123\n",
      "12\n"
     ]
    }
   ],
   "source": [
    "n=int(input())\n",
    "step=0\n",
    "while n>0:\n",
    "    if n%2==0:\n",
    "        n=n/2\n",
    "        step+=1\n",
    "    else:\n",
    "        n-=1\n",
    "        step+=1\n",
    "print(step)\n",
    "        \n",
    "        "
   ]
  },
  {
   "cell_type": "markdown",
   "id": "20f5e520",
   "metadata": {},
   "source": [
    "Input: n = 5\n",
    "Output: [0,1,1,2,1,2]\n",
    "Explanation:\n",
    "0 --> 0\n",
    "1 --> 1\n",
    "2 --> 10\n",
    "3 --> 11\n",
    "4 --> 100\n",
    "5 --> 101"
   ]
  },
  {
   "cell_type": "code",
   "execution_count": 17,
   "id": "7905df11",
   "metadata": {},
   "outputs": [
    {
     "name": "stdout",
     "output_type": "stream",
     "text": [
      "5\n",
      "[0, 1, 1, 2, 1, 2]\n"
     ]
    }
   ],
   "source": [
    "n=int(input())\n",
    "l=[]\n",
    "\n",
    "for i in range(n+1):\n",
    "    s=list(bin(i)[2:])\n",
    "    c=0\n",
    "    for i in range(len(s)):\n",
    "        c+=int(s[i])\n",
    "    l.append(c)\n",
    "print(l)\n",
    "        \n",
    "        "
   ]
  },
  {
   "cell_type": "code",
   "execution_count": null,
   "id": "cc2021fb",
   "metadata": {},
   "outputs": [],
   "source": []
  }
 ],
 "metadata": {
  "kernelspec": {
   "display_name": "Python 3",
   "language": "python",
   "name": "python3"
  },
  "language_info": {
   "codemirror_mode": {
    "name": "ipython",
    "version": 3
   },
   "file_extension": ".py",
   "mimetype": "text/x-python",
   "name": "python",
   "nbconvert_exporter": "python",
   "pygments_lexer": "ipython3",
   "version": "3.8.8"
  }
 },
 "nbformat": 4,
 "nbformat_minor": 5
}
