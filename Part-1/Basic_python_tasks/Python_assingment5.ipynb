{
 "cells": [
  {
   "cell_type": "markdown",
   "id": "c7a310cd",
   "metadata": {},
   "source": [
    "Given an integer array nums of unique elements, return all possible \n",
    "subsets\n",
    " (the power set).\n",
    "\n",
    "The solution set must not contain duplicate subsets. Return the solution in any order.\n",
    "Input: nums = [1,2,3]\n",
    "Output: [[],[1],[2],[1,2],[3],[1,3],[2,3],[1,2,3]]"
   ]
  },
  {
   "cell_type": "code",
   "execution_count": 2,
   "id": "e6b4119a",
   "metadata": {},
   "outputs": [
    {
     "data": {
      "text/plain": [
       "[[], [0]]"
      ]
     },
     "execution_count": 2,
     "metadata": {},
     "output_type": "execute_result"
    }
   ],
   "source": [
    "def dfs(nums, path, result):\n",
    "    result.append(path)\n",
    "    for i in range(len(nums)):\n",
    "        dfs(nums[i+1:], path+[nums[i]], result)\n",
    "def subsets(nums):\n",
    "    result = []\n",
    "    dfs(nums, [], result)\n",
    "    return result\n",
    "\n",
    "n=[0]\n",
    "subsets(n)"
   ]
  },
  {
   "cell_type": "markdown",
   "id": "755eb0d0",
   "metadata": {},
   "source": [
    "\n",
    "\n",
    "The Hamming distance between two integers is the number of positions at which the corresponding bits are different.\n",
    "\n",
    "Given two integers x and y, return the Hamming distance between them.\n",
    "Input: x = 1, y = 4\n",
    "Output: 2\n",
    "Explanation:\n",
    "1   (0 0 0 1)\n",
    "4   (0 1 0 0)\n",
    "       ↑   ↑\n",
    "The above arrows point to positions where the corresponding bits are different\n",
    "\n",
    "Input: x = 3, y = 1\n",
    "Output: 1"
   ]
  },
  {
   "cell_type": "code",
   "execution_count": 22,
   "id": "089bfb3f",
   "metadata": {},
   "outputs": [
    {
     "name": "stdout",
     "output_type": "stream",
     "text": [
      "8 1\n",
      "3\n"
     ]
    }
   ],
   "source": [
    "def ham(l1,l2):\n",
    "    dis1=0\n",
    "    dis2=0\n",
    "    for i in range(len(l2)):\n",
    "        if l1[i]=='1':\n",
    "            dis1=i\n",
    "            break\n",
    "    for i in range(len(l2)):\n",
    "        if l2[i]=='1':\n",
    "            dis2=i\n",
    "            break\n",
    "    print(abs(dis1-dis2))\n",
    "\n",
    "\n",
    "        \n",
    "        \n",
    "        \n",
    "        \n",
    "        \n",
    "        \n",
    "        \n",
    "        \n",
    "\n",
    "x,y=map(int,input().split(\" \"))\n",
    "l=[]\n",
    "l.append(bin(x)[2:])\n",
    "l.append(bin(y)[2:])        \n",
    "\n",
    "if len(l[0])==len(l[1]):\n",
    "    l1=list(l[0])\n",
    "    l2=list(l[1])\n",
    "    ham(l1,l2)\n",
    "     \n",
    "\n",
    "else:\n",
    "    l1=len(l[0])\n",
    "    l2=len(l[1])\n",
    "    if l2>l1:\n",
    "        s=\"\"\n",
    "        while l1<l2:\n",
    "            s+=\"0\"\n",
    "            l1+=1\n",
    "        l[0]=s+l[0]\n",
    "        \n",
    "    else:\n",
    "        s=\"\"\n",
    "        while l2<l1:\n",
    "            s+=\"0\"\n",
    "            l2+=1\n",
    "        l[1]=s+l[1]\n",
    "    \n",
    "    l1=list(l[0])\n",
    "    l2=list(l[1])\n",
    "    ham(l1,l2)\n",
    "    \n",
    "\n",
    "    \n",
    "    \n",
    "            \n"
   ]
  },
  {
   "cell_type": "markdown",
   "id": "63b522b2",
   "metadata": {},
   "source": [
    "\n",
    "\n",
    "Given an integer array nums where every element appears three times except for one, which appears exactly once. Find the single element and return it.\n",
    "You must implement a solution with a linear runtime complexity and use only constant extra space.\n",
    "Input: nums = [2,2,3,2]\n",
    "Output: 3"
   ]
  },
  {
   "cell_type": "code",
   "execution_count": 23,
   "id": "126957e4",
   "metadata": {},
   "outputs": [
    {
     "data": {
      "text/plain": [
       "3"
      ]
     },
     "execution_count": 23,
     "metadata": {},
     "output_type": "execute_result"
    }
   ],
   "source": [
    "def single(l):\n",
    "    ones = 0\n",
    "    twos = 0\n",
    "    for i in l:\n",
    "        ones = (ones ^ i) & ~twos\n",
    "        twos = (twos ^ i) & ~ones\n",
    "    return ones\n",
    "\n",
    "l=[2,2,3,2]\n",
    "\n",
    "single(l)"
   ]
  },
  {
   "cell_type": "code",
   "execution_count": null,
   "id": "5ed12508",
   "metadata": {},
   "outputs": [],
   "source": []
  },
  {
   "cell_type": "code",
   "execution_count": null,
   "id": "39ea089c",
   "metadata": {},
   "outputs": [],
   "source": []
  }
 ],
 "metadata": {
  "kernelspec": {
   "display_name": "Python 3",
   "language": "python",
   "name": "python3"
  },
  "language_info": {
   "codemirror_mode": {
    "name": "ipython",
    "version": 3
   },
   "file_extension": ".py",
   "mimetype": "text/x-python",
   "name": "python",
   "nbconvert_exporter": "python",
   "pygments_lexer": "ipython3",
   "version": "3.8.8"
  }
 },
 "nbformat": 4,
 "nbformat_minor": 5
}
